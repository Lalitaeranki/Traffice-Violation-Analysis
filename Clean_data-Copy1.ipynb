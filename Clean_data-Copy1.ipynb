{
 "cells": [
  {
   "cell_type": "code",
   "execution_count": 1,
   "metadata": {},
   "outputs": [],
   "source": [
    "#Import Dependencies\n",
    "import pandas as pd\n",
    "import numpy as np\n",
    "import matplotlib.pyplot as plt\n",
    "import datetime"
   ]
  },
  {
   "cell_type": "code",
   "execution_count": 2,
   "metadata": {},
   "outputs": [],
   "source": [
    "#Read the cvs file\n",
    "\n",
    "Traffic_pd=pd.read_csv(\"Traffic_Violations.csv\")"
   ]
  },
  {
   "cell_type": "code",
   "execution_count": 3,
   "metadata": {},
   "outputs": [
    {
     "data": {
      "text/html": [
       "<div>\n",
       "<style scoped>\n",
       "    .dataframe tbody tr th:only-of-type {\n",
       "        vertical-align: middle;\n",
       "    }\n",
       "\n",
       "    .dataframe tbody tr th {\n",
       "        vertical-align: top;\n",
       "    }\n",
       "\n",
       "    .dataframe thead th {\n",
       "        text-align: right;\n",
       "    }\n",
       "</style>\n",
       "<table border=\"1\" class=\"dataframe\">\n",
       "  <thead>\n",
       "    <tr style=\"text-align: right;\">\n",
       "      <th></th>\n",
       "      <th>Date Of Stop</th>\n",
       "      <th>Time Of Stop</th>\n",
       "      <th>Agency</th>\n",
       "      <th>SubAgency</th>\n",
       "      <th>Description</th>\n",
       "      <th>Location</th>\n",
       "      <th>Latitude</th>\n",
       "      <th>Longitude</th>\n",
       "      <th>Accident</th>\n",
       "      <th>Belts</th>\n",
       "      <th>...</th>\n",
       "      <th>Charge</th>\n",
       "      <th>Article</th>\n",
       "      <th>Contributed To Accident</th>\n",
       "      <th>Race</th>\n",
       "      <th>Gender</th>\n",
       "      <th>Driver City</th>\n",
       "      <th>Driver State</th>\n",
       "      <th>DL State</th>\n",
       "      <th>Arrest Type</th>\n",
       "      <th>Geolocation</th>\n",
       "    </tr>\n",
       "  </thead>\n",
       "  <tbody>\n",
       "    <tr>\n",
       "      <th>0</th>\n",
       "      <td>09/24/2013</td>\n",
       "      <td>17:11:00</td>\n",
       "      <td>MCP</td>\n",
       "      <td>3rd district, Silver Spring</td>\n",
       "      <td>DRIVING VEHICLE ON HIGHWAY WITH SUSPENDED REGI...</td>\n",
       "      <td>8804 FLOWER AVE</td>\n",
       "      <td>NaN</td>\n",
       "      <td>NaN</td>\n",
       "      <td>No</td>\n",
       "      <td>No</td>\n",
       "      <td>...</td>\n",
       "      <td>13-401(h)</td>\n",
       "      <td>Transportation Article</td>\n",
       "      <td>No</td>\n",
       "      <td>BLACK</td>\n",
       "      <td>M</td>\n",
       "      <td>TAKOMA PARK</td>\n",
       "      <td>MD</td>\n",
       "      <td>MD</td>\n",
       "      <td>A - Marked Patrol</td>\n",
       "      <td>NaN</td>\n",
       "    </tr>\n",
       "    <tr>\n",
       "      <th>1</th>\n",
       "      <td>08/29/2017</td>\n",
       "      <td>10:19:00</td>\n",
       "      <td>MCP</td>\n",
       "      <td>2nd district, Bethesda</td>\n",
       "      <td>DRIVER FAILURE TO OBEY PROPERLY PLACED TRAFFIC...</td>\n",
       "      <td>WISCONSIN AVE@ ELM ST</td>\n",
       "      <td>38.981725</td>\n",
       "      <td>-77.092757</td>\n",
       "      <td>No</td>\n",
       "      <td>No</td>\n",
       "      <td>...</td>\n",
       "      <td>21-201(a1)</td>\n",
       "      <td>Transportation Article</td>\n",
       "      <td>No</td>\n",
       "      <td>WHITE</td>\n",
       "      <td>F</td>\n",
       "      <td>FAIRFAX STATION</td>\n",
       "      <td>VA</td>\n",
       "      <td>VA</td>\n",
       "      <td>A - Marked Patrol</td>\n",
       "      <td>(38.981725, -77.0927566666667)</td>\n",
       "    </tr>\n",
       "    <tr>\n",
       "      <th>2</th>\n",
       "      <td>12/01/2014</td>\n",
       "      <td>12:52:00</td>\n",
       "      <td>MCP</td>\n",
       "      <td>6th district, Gaithersburg / Montgomery Village</td>\n",
       "      <td>FAILURE STOP AND YIELD AT THRU HWY</td>\n",
       "      <td>CHRISTOPHER AVE/MONTGOMERY VILLAGE AVE</td>\n",
       "      <td>39.162888</td>\n",
       "      <td>-77.229088</td>\n",
       "      <td>No</td>\n",
       "      <td>No</td>\n",
       "      <td>...</td>\n",
       "      <td>21-403(b)</td>\n",
       "      <td>Transportation Article</td>\n",
       "      <td>No</td>\n",
       "      <td>BLACK</td>\n",
       "      <td>F</td>\n",
       "      <td>UPPER MARLBORO</td>\n",
       "      <td>MD</td>\n",
       "      <td>MD</td>\n",
       "      <td>A - Marked Patrol</td>\n",
       "      <td>(39.1628883333333, -77.2290883333333)</td>\n",
       "    </tr>\n",
       "    <tr>\n",
       "      <th>3</th>\n",
       "      <td>08/29/2017</td>\n",
       "      <td>09:22:00</td>\n",
       "      <td>MCP</td>\n",
       "      <td>3rd district, Silver Spring</td>\n",
       "      <td>FAILURE YIELD RIGHT OF WAY ON U TURN</td>\n",
       "      <td>CHERRY HILL RD./CALVERTON BLVD.</td>\n",
       "      <td>39.056975</td>\n",
       "      <td>-76.954633</td>\n",
       "      <td>No</td>\n",
       "      <td>No</td>\n",
       "      <td>...</td>\n",
       "      <td>21-402(b)</td>\n",
       "      <td>Transportation Article</td>\n",
       "      <td>No</td>\n",
       "      <td>BLACK</td>\n",
       "      <td>M</td>\n",
       "      <td>FORT WASHINGTON</td>\n",
       "      <td>MD</td>\n",
       "      <td>MD</td>\n",
       "      <td>A - Marked Patrol</td>\n",
       "      <td>(39.056975, -76.9546333333333)</td>\n",
       "    </tr>\n",
       "    <tr>\n",
       "      <th>4</th>\n",
       "      <td>08/28/2017</td>\n",
       "      <td>23:41:00</td>\n",
       "      <td>MCP</td>\n",
       "      <td>6th district, Gaithersburg / Montgomery Village</td>\n",
       "      <td>FAILURE OF DR. TO MAKE LANE CHANGE TO AVAIL. L...</td>\n",
       "      <td>355 @ SOUTH WESTLAND DRIVE</td>\n",
       "      <td>NaN</td>\n",
       "      <td>NaN</td>\n",
       "      <td>No</td>\n",
       "      <td>No</td>\n",
       "      <td>...</td>\n",
       "      <td>21-405(e1)</td>\n",
       "      <td>Transportation Article</td>\n",
       "      <td>No</td>\n",
       "      <td>WHITE</td>\n",
       "      <td>M</td>\n",
       "      <td>GAITHERSBURG</td>\n",
       "      <td>MD</td>\n",
       "      <td>MD</td>\n",
       "      <td>A - Marked Patrol</td>\n",
       "      <td>NaN</td>\n",
       "    </tr>\n",
       "  </tbody>\n",
       "</table>\n",
       "<p>5 rows × 35 columns</p>\n",
       "</div>"
      ],
      "text/plain": [
       "  Date Of Stop Time Of Stop Agency  \\\n",
       "0   09/24/2013     17:11:00    MCP   \n",
       "1   08/29/2017     10:19:00    MCP   \n",
       "2   12/01/2014     12:52:00    MCP   \n",
       "3   08/29/2017     09:22:00    MCP   \n",
       "4   08/28/2017     23:41:00    MCP   \n",
       "\n",
       "                                         SubAgency  \\\n",
       "0                      3rd district, Silver Spring   \n",
       "1                           2nd district, Bethesda   \n",
       "2  6th district, Gaithersburg / Montgomery Village   \n",
       "3                      3rd district, Silver Spring   \n",
       "4  6th district, Gaithersburg / Montgomery Village   \n",
       "\n",
       "                                         Description  \\\n",
       "0  DRIVING VEHICLE ON HIGHWAY WITH SUSPENDED REGI...   \n",
       "1  DRIVER FAILURE TO OBEY PROPERLY PLACED TRAFFIC...   \n",
       "2                 FAILURE STOP AND YIELD AT THRU HWY   \n",
       "3               FAILURE YIELD RIGHT OF WAY ON U TURN   \n",
       "4  FAILURE OF DR. TO MAKE LANE CHANGE TO AVAIL. L...   \n",
       "\n",
       "                                 Location   Latitude  Longitude Accident  \\\n",
       "0                         8804 FLOWER AVE        NaN        NaN       No   \n",
       "1                   WISCONSIN AVE@ ELM ST  38.981725 -77.092757       No   \n",
       "2  CHRISTOPHER AVE/MONTGOMERY VILLAGE AVE  39.162888 -77.229088       No   \n",
       "3         CHERRY HILL RD./CALVERTON BLVD.  39.056975 -76.954633       No   \n",
       "4              355 @ SOUTH WESTLAND DRIVE        NaN        NaN       No   \n",
       "\n",
       "  Belts                  ...                        Charge  \\\n",
       "0    No                  ...                     13-401(h)   \n",
       "1    No                  ...                    21-201(a1)   \n",
       "2    No                  ...                     21-403(b)   \n",
       "3    No                  ...                     21-402(b)   \n",
       "4    No                  ...                    21-405(e1)   \n",
       "\n",
       "                  Article Contributed To Accident   Race Gender  \\\n",
       "0  Transportation Article                      No  BLACK      M   \n",
       "1  Transportation Article                      No  WHITE      F   \n",
       "2  Transportation Article                      No  BLACK      F   \n",
       "3  Transportation Article                      No  BLACK      M   \n",
       "4  Transportation Article                      No  WHITE      M   \n",
       "\n",
       "       Driver City Driver State DL State        Arrest Type  \\\n",
       "0      TAKOMA PARK           MD       MD  A - Marked Patrol   \n",
       "1  FAIRFAX STATION           VA       VA  A - Marked Patrol   \n",
       "2   UPPER MARLBORO           MD       MD  A - Marked Patrol   \n",
       "3  FORT WASHINGTON           MD       MD  A - Marked Patrol   \n",
       "4     GAITHERSBURG           MD       MD  A - Marked Patrol   \n",
       "\n",
       "                             Geolocation  \n",
       "0                                    NaN  \n",
       "1         (38.981725, -77.0927566666667)  \n",
       "2  (39.1628883333333, -77.2290883333333)  \n",
       "3         (39.056975, -76.9546333333333)  \n",
       "4                                    NaN  \n",
       "\n",
       "[5 rows x 35 columns]"
      ]
     },
     "execution_count": 3,
     "metadata": {},
     "output_type": "execute_result"
    }
   ],
   "source": [
    "#Display The Dataframe\n",
    "Traffic_pd.head()"
   ]
  },
  {
   "cell_type": "code",
   "execution_count": 4,
   "metadata": {},
   "outputs": [
    {
     "data": {
      "text/plain": [
       "Index(['Date Of Stop', 'Time Of Stop', 'Agency', 'SubAgency', 'Description',\n",
       "       'Location', 'Latitude', 'Longitude', 'Accident', 'Belts',\n",
       "       'Personal Injury', 'Property Damage', 'Fatal', 'Commercial License',\n",
       "       'HAZMAT', 'Commercial Vehicle', 'Alcohol', 'Work Zone', 'State',\n",
       "       'VehicleType', 'Year', 'Make', 'Model', 'Color', 'Violation Type',\n",
       "       'Charge', 'Article', 'Contributed To Accident', 'Race', 'Gender',\n",
       "       'Driver City', 'Driver State', 'DL State', 'Arrest Type',\n",
       "       'Geolocation'],\n",
       "      dtype='object')"
      ]
     },
     "execution_count": 4,
     "metadata": {},
     "output_type": "execute_result"
    }
   ],
   "source": [
    "Traffic_pd.columns"
   ]
  },
  {
   "cell_type": "code",
   "execution_count": 5,
   "metadata": {},
   "outputs": [
    {
     "data": {
      "text/plain": [
       "Index(['Date Of Stop', 'Time Of Stop', 'Agency', 'SubAgency', 'Description',\n",
       "       'Location', 'Latitude', 'Longitude', 'Accident', 'Belts',\n",
       "       'Personal Injury', 'Property Damage', 'Fatal', 'Commercial License',\n",
       "       'HAZMAT', 'Commercial Vehicle', 'Alcohol', 'Work Zone', 'State',\n",
       "       'VehicleType', 'Year Make', 'Make', 'Model', 'Color', 'Violation Type',\n",
       "       'Charge', 'Article', 'Contributed To Accident', 'Race', 'Gender',\n",
       "       'Driver City', 'Driver State', 'DL State', 'Arrest Type',\n",
       "       'Geolocation'],\n",
       "      dtype='object')"
      ]
     },
     "execution_count": 5,
     "metadata": {},
     "output_type": "execute_result"
    }
   ],
   "source": [
    "#renaming the column name to year make\n",
    "Traffic_pd=Traffic_pd.rename(columns={'Year':'Year Make'})\n",
    "Traffic_pd.columns"
   ]
  },
  {
   "cell_type": "code",
   "execution_count": 6,
   "metadata": {},
   "outputs": [],
   "source": [
    "#getting Year and month  using datetype\n",
    "\n",
    "\n",
    "Traffic_pd['Date Of Stop'] = pd.to_datetime(Traffic_pd['Date Of Stop'])\n",
    "#Traffic_pd['Date Of Stop'].dt.year\n",
    "Traffic_pd['Year'] = Traffic_pd['Date Of Stop'].dt.year\n",
    "Traffic_pd['Month'] =Traffic_pd['Date Of Stop'].dt.month"
   ]
  },
  {
   "cell_type": "code",
   "execution_count": 7,
   "metadata": {},
   "outputs": [
    {
     "data": {
      "text/plain": [
       "(1371840, 37)"
      ]
     },
     "execution_count": 7,
     "metadata": {},
     "output_type": "execute_result"
    }
   ],
   "source": [
    "Traffic_pd.shape\n"
   ]
  },
  {
   "cell_type": "code",
   "execution_count": 8,
   "metadata": {},
   "outputs": [],
   "source": [
    "#dropping the columns\n",
    "main_traffic_data=Traffic_pd.drop(columns={'Agency', 'SubAgency','Personal Injury', 'Property Damage','Work Zone','Article', 'Accident'})"
   ]
  },
  {
   "cell_type": "code",
   "execution_count": 9,
   "metadata": {},
   "outputs": [],
   "source": [
    "#dropping columns to get the dataframe\n",
    "main_traffic_data.columns\n",
    "final_data=main_traffic_data.drop(columns={'Location', 'Latitude','Longitude','Commercial License','Commercial Vehicle','Driver State','Arrest Type'})"
   ]
  },
  {
   "cell_type": "code",
   "execution_count": 10,
   "metadata": {},
   "outputs": [
    {
     "data": {
      "text/plain": [
       "(1371840, 23)"
      ]
     },
     "execution_count": 10,
     "metadata": {},
     "output_type": "execute_result"
    }
   ],
   "source": [
    "final_data.shape\n"
   ]
  },
  {
   "cell_type": "code",
   "execution_count": 11,
   "metadata": {},
   "outputs": [
    {
     "data": {
      "text/plain": [
       "Date Of Stop               1254906\n",
       "Time Of Stop               1254906\n",
       "Description                1254906\n",
       "Belts                      1254906\n",
       "Fatal                      1254906\n",
       "HAZMAT                     1254906\n",
       "Alcohol                    1254906\n",
       "State                      1254906\n",
       "VehicleType                1254906\n",
       "Year Make                  1254906\n",
       "Make                       1254906\n",
       "Model                      1254906\n",
       "Color                      1254906\n",
       "Violation Type             1254906\n",
       "Charge                     1254906\n",
       "Contributed To Accident    1254906\n",
       "Race                       1254906\n",
       "Gender                     1254906\n",
       "Driver City                1254906\n",
       "DL State                   1254906\n",
       "Geolocation                1254906\n",
       "Year                       1254906\n",
       "Month                      1254906\n",
       "dtype: int64"
      ]
     },
     "execution_count": 11,
     "metadata": {},
     "output_type": "execute_result"
    }
   ],
   "source": [
    "#droping the missing or NaN rows from dataframe\n",
    "final_data.dropna(how='any',inplace=True)\n",
    "final_data.count()"
   ]
  },
  {
   "cell_type": "code",
   "execution_count": 12,
   "metadata": {},
   "outputs": [],
   "source": [
    "#using the search word in \"Description as SPEED we put all the other Charges under the same description with 201-801 \n",
    "#repeating the same for remaining Description \"\n",
    "final_data.loc[final_data['Description'].str.contains('SPEED', case=False),'Description']='SPEEDING' \n",
    "final_data.loc[final_data['Description'].str.contains('SPEED', case=False),'Charge']='201-801'\n",
    "final_data.loc[final_data['Description'].str.contains('TRAFFIC CONTROL DEVICE', case=False),'Description']='TRAFFIC CONTROLDEVICE' \n",
    "final_data.loc[final_data['Description'].str.contains('TRAFFIC CONTROL DEVICE', case=False),'Charge']='21-201' \n"
   ]
  },
  {
   "cell_type": "code",
   "execution_count": 13,
   "metadata": {},
   "outputs": [],
   "source": [
    "final_data.loc[final_data['Description'].str.contains('REGISTRATION CARD|DISPLAY REG. CARD',case=False),'Description']='FAILURE TODISPLAY REGISTRATION CARD'\n",
    "final_data.loc[final_data['Description'].str.contains('REGISTRATION CARD|DISPLAY REG. CARD',case=False),'Charge']='13-409'"
   ]
  },
  {
   "cell_type": "code",
   "execution_count": 14,
   "metadata": {},
   "outputs": [],
   "source": [
    "final_data.loc[final_data['Description'].str.contains('SUSPENDED REGISTRATION|UNREGISTERED MOTOR|UNPAID REGISTRATION|CANCELLED REGISTRATION|REVOKED REGISTRATION|UNREG. VEH| PROPER VEHICLE I.D', case=False),'Description']='SUSPENDED REGISTRATION' \n",
    "final_data.loc[final_data['Description'].str.contains('SUSPENDED REGISTRATION|UNREGISTERED MOTOR|UNPAID REGISTRATION|CANCELLED REGISTRATION|REVOKED REGISTRATION|UNREG. VEH| PROPER VEHICLE I.D', case=False),'Charge']='13-401' "
   ]
  },
  {
   "cell_type": "code",
   "execution_count": 15,
   "metadata": {},
   "outputs": [],
   "source": [
    "final_data.loc[final_data['Description'].str.contains('STOP AT STOP|YIELD SIGN', case=False),'Description']='STOP AT STOP' \n",
    "final_data.loc[final_data['Description'].str.contains('STOP AT STOP|YIELD SIGN', case=False),'Charge']='21-707'"
   ]
  },
  {
   "cell_type": "code",
   "execution_count": 16,
   "metadata": {},
   "outputs": [],
   "source": [
    "\n",
    "final_data.loc[final_data['Description'].str.contains('DISPLAY LICENSE|HAVE LIC.|FALSE AND FICTITIOUS NAME|SIGN SIGNATURE|LICENSE',case=False),'Description']='SUSPENDED LICENSE'\n",
    "final_data.loc[final_data['Description'].str.contains('DISPLAY LICENSE|HAVE LIC.|FALSE AND FICTITIOUS NAME|SIGN SIGNATURE|LICENSE',case=False),'Charge']='16-112'"
   ]
  },
  {
   "cell_type": "code",
   "execution_count": 17,
   "metadata": {},
   "outputs": [],
   "source": [
    "final_data.loc[final_data['Description'].str.contains('ELECTRONIC|TEXT|TELEPHONE|ATEXT|WIRELESS COMMUNICATION|WRITING|SENDING|MSG.|PHONE|EAR'),'Description']=\"ELECTRONIC DEVICE DISTRACTION\"\n",
    "final_data.loc[final_data['Description'].str.contains('ELECTRONIC|TEXT|TELEPHONE|ATEXT|WIRELESS COMMUNICATION|WRITING|SENDING|MSG.|PHONE|EAR'),'Charge']=\"21-1124\""
   ]
  },
  {
   "cell_type": "code",
   "execution_count": 18,
   "metadata": {},
   "outputs": [],
   "source": [
    "final_data.loc[final_data['Description'].str.contains('REGISTRATION PLATE|VALIDATION TABS|PLATE|TAGS|REG. PLATE'),\"Description\"]=\"DISPLAY REGISTRATION PLATE\"\n",
    "final_data.loc[final_data['Description'].str.contains('REGISTRATION PLATE|VALIDATION TABS|PLATE|TAGS|REG. PLATE'),\"Charge\"]=\"13-411\""
   ]
  },
  {
   "cell_type": "code",
   "execution_count": 19,
   "metadata": {},
   "outputs": [],
   "source": [
    "final_data.loc[final_data['Description'].astype(str).str.contains('STOP LIGHTS',case=False),\"Description\"]=\"NOSTOP LIGHTS\"\n",
    "final_data.loc[final_data['Description'].astype(str).str.contains('STOP LIGHTS',case=False),\"Charge\"]=\"64\""
   ]
  },
  {
   "cell_type": "code",
   "execution_count": 20,
   "metadata": {},
   "outputs": [],
   "source": [
    "final_data.loc[final_data['Description'].astype(str).str.contains('seat|seatbelt|belt',case=False),\"Description\"]=\"NO SEAT BELT/CHILD SAFTEY\"\n",
    "final_data.loc[final_data['Description'].astype(str).str.contains('seat|seatbelt|belt',case=False),\"Charge\"]=\"22-412\""
   ]
  },
  {
   "cell_type": "code",
   "execution_count": 21,
   "metadata": {},
   "outputs": [],
   "source": [
    "\n",
    "final_data.loc[final_data['Description'].astype(str).str.contains('TRAFFIC LANE|CENTER LANE|TURN LANE|CHANGING LANES|UNSAFE LANE|DESIGNATED LANE',case=False),\"Description\"]=\"IMPROPER LANECHANGE\"\n",
    "final_data.loc[final_data['Description'].astype(str).str.contains('IMPROPER LANECHANGE',case=False),\"Charge\"] = \"21-309.\""
   ]
  },
  {
   "cell_type": "code",
   "execution_count": 22,
   "metadata": {},
   "outputs": [],
   "source": [
    "final_data.loc[final_data['Description'].astype(str).str.contains('LIGHTED LAMPS|LIGHTED HEAD|LIGHTED',case=False),\"Description\"]=\"WITHOUTLIGHTED HEADLAMPS\"\n",
    "final_data.loc[final_data['Description'].astype(str).str.contains('LIGHTED LAMPS|LIGHTED HEAD|LIGHTED',case=False),\"Charge\"]=\"22-201\""
   ]
  },
  {
   "cell_type": "code",
   "execution_count": 23,
   "metadata": {},
   "outputs": [],
   "source": [
    "final_data.loc[final_data['Description'].astype(str).str.contains('AGGRESSIVE DRIVING|NEGLIGENT DRIVING|RECKLESS DRIVING',case=False),\"Description\"]=\"NEGLIGENT DRIVING\"\n",
    "final_data.loc[final_data['Description'].astype(str).str.contains('AGGRESSIVE DRIVING|NEGLIGENT DRIVING|RECKLESS DRIVING',case=False),\"Charge\"]=\"22-901\""
   ]
  },
  {
   "cell_type": "code",
   "execution_count": 24,
   "metadata": {},
   "outputs": [],
   "source": [
    "#since the OR srting is large assinging the Charge with The Description name \"STOPAT REDSIGNAL\" under 21-202 repeated same below\n",
    "final_data.loc[final_data['Description'].astype(str).str.contains('RED SIGNAL|RED TRAFFIC SIGNAL|MAKE REQUIRED STOP|RIGHT-OF-WAY|PAVEMENT MARK|STOP AT SIGN|RED ARROW SIGNAL'),\"Description\"]=\"STOPAT REDSIGNAL\"\n",
    "final_data.loc[final_data['Description'].astype(str).str.contains('STOPAT REDSIGNAL'),\"Charge\"]=\"21-202\""
   ]
  },
  {
   "cell_type": "code",
   "execution_count": 25,
   "metadata": {},
   "outputs": [],
   "source": [
    "final_data.loc[final_data['Description'].astype(str).str.contains('INFLUENCE OF ALCOHOL|ALCOHOL|INFLUENCE OF ALCOHOL|CONTROLLED DANGEROUS SUBSTANCE|IMPAIRED BY DRUGS'),\"Description\"]=\"INFLUENCE OF ALCOHOL\"\n",
    "final_data.loc[final_data['Description'].astype(str).str.contains('INFLUENCE OF ALCOHOL'),\"Charge\"]=\"21-902\""
   ]
  },
  {
   "cell_type": "code",
   "execution_count": 26,
   "metadata": {},
   "outputs": [],
   "source": [
    "final_data.loc[final_data['Description'].astype(str).str.contains('WINDOW TINTING|SAFETY GLASS'),\"Description\"]=\"UNAUTHORIZED WINDOW TINTING\"\n",
    "final_data.loc[final_data['Description'].astype(str).str.contains('UNAUTHORIZED WINDOW TINTING'),\"Charge\"]=\"22-406\""
   ]
  },
  {
   "cell_type": "code",
   "execution_count": 27,
   "metadata": {},
   "outputs": [],
   "source": [
    "final_data.loc[final_data['Description'].astype(str).str.contains('HEADLIGHTS|HEADLIGHT AIM',case=False),\"Description\"]=\"HEADLIGHTS\"\n",
    "final_data.loc[final_data['Description'].astype(str).str.contains('HEADLIGHTS'),\"Charge\"]=\"55\""
   ]
  },
  {
   "cell_type": "code",
   "execution_count": 28,
   "metadata": {},
   "outputs": [],
   "source": [
    "\n",
    "final_data.loc[final_data['Description'].astype(str).str.contains('REQUIRED MINIMUM EQUIPMENT',case=False),\"Description\"]=\"HWY. W/O REQUIRED MINIMUM EQUIPMENT\"\n",
    "final_data.loc[final_data['Description'].astype(str).str.contains('HWY. W/O REQUIRED MINIMUM EQUIPMENT'),\"Charge\"]=\"23-104\"\n"
   ]
  },
  {
   "cell_type": "code",
   "execution_count": 29,
   "metadata": {},
   "outputs": [],
   "source": [
    "#Dropping the Charges and hence the rows with value_counts of Charge is less than 7500 that leaves us with 21 Charges to work\n",
    "#Did it in end to encoperate maximum counts and prevent data loss\n",
    "s=final_data.Charge.value_counts().gt(7500)\n",
    "new_data=final_data.loc[final_data.Charge.isin(s[s].index)]"
   ]
  },
  {
   "cell_type": "code",
   "execution_count": 30,
   "metadata": {
    "scrolled": true
   },
   "outputs": [],
   "source": [
    "#new_data[new_data['Charge'].astype(str).str.contains('69')].Description.value_counts()\n"
   ]
  },
  {
   "cell_type": "code",
   "execution_count": 31,
   "metadata": {},
   "outputs": [
    {
     "name": "stderr",
     "output_type": "stream",
     "text": [
      "C:\\Users\\pghar\\Anaconda3\\envs\\PythonData\\lib\\site-packages\\pandas\\core\\indexing.py:543: SettingWithCopyWarning: \n",
      "A value is trying to be set on a copy of a slice from a DataFrame.\n",
      "Try using .loc[row_indexer,col_indexer] = value instead\n",
      "\n",
      "See the caveats in the documentation: http://pandas.pydata.org/pandas-docs/stable/indexing.html#indexing-view-versus-copy\n",
      "  self.obj[item] = s\n"
     ]
    }
   ],
   "source": [
    "#with the reduced dataframe the data is cleaned in the same manner\n",
    "new_data.loc[new_data['Description'].astype(str).str.contains('LANE NOT IMMED.|EMERG. VEH|MOVE OVER|FAILURE OF DR. '),\"Description\"]=\"FAILURE TO ADJ EMERGENCY VEH\"\n",
    "new_data.loc[new_data['Description'].astype(str).str.contains('FAILURE TO ADJ EMERGENCY VEH'),\"Charge\"]=\"21-405\""
   ]
  },
  {
   "cell_type": "code",
   "execution_count": 32,
   "metadata": {},
   "outputs": [
    {
     "name": "stderr",
     "output_type": "stream",
     "text": [
      "C:\\Users\\pghar\\Anaconda3\\envs\\PythonData\\lib\\site-packages\\pandas\\core\\indexing.py:543: SettingWithCopyWarning: \n",
      "A value is trying to be set on a copy of a slice from a DataFrame.\n",
      "Try using .loc[row_indexer,col_indexer] = value instead\n",
      "\n",
      "See the caveats in the documentation: http://pandas.pydata.org/pandas-docs/stable/indexing.html#indexing-view-versus-copy\n",
      "  self.obj[item] = s\n"
     ]
    }
   ],
   "source": [
    "new_data.loc[new_data['Description'].astype(str).str.contains('RIGHT HALF OF ROADWAY|RIGHT OF CENTER'),\"Description\"]=\"FAILURE TO DRIVE RIGHT\"\n",
    "new_data.loc[new_data['Description'].astype(str).str.contains('FAILURE TO DRIVE RIGHT'),\"Charge\"]=\"21-301\""
   ]
  },
  {
   "cell_type": "code",
   "execution_count": 33,
   "metadata": {},
   "outputs": [
    {
     "name": "stderr",
     "output_type": "stream",
     "text": [
      "C:\\Users\\pghar\\Anaconda3\\envs\\PythonData\\lib\\site-packages\\pandas\\core\\indexing.py:543: SettingWithCopyWarning: \n",
      "A value is trying to be set on a copy of a slice from a DataFrame.\n",
      "Try using .loc[row_indexer,col_indexer] = value instead\n",
      "\n",
      "See the caveats in the documentation: http://pandas.pydata.org/pandas-docs/stable/indexing.html#indexing-view-versus-copy\n",
      "  self.obj[item] = s\n"
     ]
    }
   ],
   "source": [
    "new_data.loc[new_data['Description'].astype(str).str.contains(' WHILE LIC.|WHILE SUSP. UNDER|SUSP|16-303 H|21-901|26-204|FAILURE TO STOP',case=False),\"Description\"]=\"DRIVING WITH SUSP.LICEN\"\n",
    "new_data.loc[new_data['Description'].astype(str).str.contains('DRIVING WITH SUSP.LICEN'),\"Charge\"]=\"16-303\""
   ]
  },
  {
   "cell_type": "code",
   "execution_count": 34,
   "metadata": {},
   "outputs": [
    {
     "name": "stderr",
     "output_type": "stream",
     "text": [
      "C:\\Users\\pghar\\Anaconda3\\envs\\PythonData\\lib\\site-packages\\pandas\\core\\indexing.py:543: SettingWithCopyWarning: \n",
      "A value is trying to be set on a copy of a slice from a DataFrame.\n",
      "Try using .loc[row_indexer,col_indexer] = value instead\n",
      "\n",
      "See the caveats in the documentation: http://pandas.pydata.org/pandas-docs/stable/indexing.html#indexing-view-versus-copy\n",
      "  self.obj[item] = s\n"
     ]
    }
   ],
   "source": [
    "new_data.loc[new_data['Description'].astype(str).str.contains(' UNINSURED VEHICLE|UNINSURED|INSURED|INSURANCE|KNOWINGLY DRIVING|TAG NOT|MARYLAND|UNISURED'),\"Description\"]=\"UNINSURED VEHICLE\"\n",
    "new_data.loc[new_data['Description'].astype(str).str.contains('UNINSURED VEHICLE'),\"Charge\"]=\"17-707\""
   ]
  },
  {
   "cell_type": "code",
   "execution_count": 35,
   "metadata": {},
   "outputs": [
    {
     "name": "stderr",
     "output_type": "stream",
     "text": [
      "C:\\Users\\pghar\\Anaconda3\\envs\\PythonData\\lib\\site-packages\\pandas\\core\\indexing.py:543: SettingWithCopyWarning: \n",
      "A value is trying to be set on a copy of a slice from a DataFrame.\n",
      "Try using .loc[row_indexer,col_indexer] = value instead\n",
      "\n",
      "See the caveats in the documentation: http://pandas.pydata.org/pandas-docs/stable/indexing.html#indexing-view-versus-copy\n",
      "  self.obj[item] = s\n"
     ]
    }
   ],
   "source": [
    "new_data.loc[new_data['Description'].astype(str).str.contains(' TURNING LEFT FAIL|LEFT TURN'),\"Description\"]=\"TURNING LEFT FAIL\"\n",
    "new_data.loc[new_data['Description'].astype(str).str.contains('TURNING LEFT FAIL'),\"Charge\"]=\"21-402\""
   ]
  },
  {
   "cell_type": "code",
   "execution_count": 36,
   "metadata": {},
   "outputs": [
    {
     "name": "stderr",
     "output_type": "stream",
     "text": [
      "C:\\Users\\pghar\\Anaconda3\\envs\\PythonData\\lib\\site-packages\\pandas\\core\\indexing.py:543: SettingWithCopyWarning: \n",
      "A value is trying to be set on a copy of a slice from a DataFrame.\n",
      "Try using .loc[row_indexer,col_indexer] = value instead\n",
      "\n",
      "See the caveats in the documentation: http://pandas.pydata.org/pandas-docs/stable/indexing.html#indexing-view-versus-copy\n",
      "  self.obj[item] = s\n"
     ]
    }
   ],
   "source": [
    "new_data.loc[new_data['Charge'].astype(str).str.contains('TURNING LEFT FAIL'),\"Charge\"]=\"21-402\""
   ]
  },
  {
   "cell_type": "code",
   "execution_count": 37,
   "metadata": {},
   "outputs": [
    {
     "data": {
      "text/plain": [
       "16-303        207480\n",
       "201-801       203409\n",
       "21-201(a1)    102115\n",
       "21-1124        99761\n",
       "13-411         77552\n",
       "13-409         62038\n",
       "21-202         56548\n",
       "21-707         42125\n",
       "21-902         38021\n",
       "22-412         31251\n",
       "22-201         31095\n",
       "64             24888\n",
       "21-309.        24849\n",
       "22-901         22630\n",
       "22-406         12132\n",
       "55             11162\n",
       "23-104         10230\n",
       "21-301          9589\n",
       "21-405          8997\n",
       "17-707          7656\n",
       "21-402          7521\n",
       "Name: Charge, dtype: int64"
      ]
     },
     "execution_count": 37,
     "metadata": {},
     "output_type": "execute_result"
    }
   ],
   "source": [
    "#checking the data \n",
    "new_data.Charge.value_counts()\n"
   ]
  },
  {
   "cell_type": "code",
   "execution_count": 38,
   "metadata": {},
   "outputs": [
    {
     "data": {
      "text/plain": [
       "Index(['Date Of Stop', 'Time Of Stop', 'Description', 'Belts', 'Fatal',\n",
       "       'HAZMAT', 'Alcohol', 'State', 'VehicleType', 'Year Make', 'Make',\n",
       "       'Model', 'Color', 'Violation Type', 'Charge', 'Contributed To Accident',\n",
       "       'Race', 'Gender', 'Driver City', 'DL State', 'Geolocation', 'Year',\n",
       "       'Month'],\n",
       "      dtype='object')"
      ]
     },
     "execution_count": 38,
     "metadata": {},
     "output_type": "execute_result"
    }
   ],
   "source": [
    "new_data.columns\n"
   ]
  },
  {
   "cell_type": "code",
   "execution_count": 39,
   "metadata": {},
   "outputs": [],
   "source": [
    "#lastly dropping all the other columns as discussed\n",
    "output_data_CSV=new_data.drop(columns={'Belts', 'Fatal','HAZMAT', 'Alcohol','VehicleType', 'Year Make', 'Make',\n",
    "       'Model', 'Color', 'Violation Type','Driver City', 'DL State'})"
   ]
  },
  {
   "cell_type": "code",
   "execution_count": 40,
   "metadata": {},
   "outputs": [
    {
     "data": {
      "text/plain": [
       "DRIVING WITH SUSP.LICEN                207480\n",
       "SPEEDING                               203409\n",
       "TRAFFIC CONTROLDEVICE                  102115\n",
       "ELECTRONIC DEVICE DISTRACTION           99761\n",
       "DISPLAY REGISTRATION PLATE              77552\n",
       "FAILURE TODISPLAY REGISTRATION CARD     62038\n",
       "STOPAT REDSIGNAL                        56548\n",
       "STOP AT STOP                            42125\n",
       "INFLUENCE OF ALCOHOL                    38021\n",
       "NO SEAT BELT/CHILD SAFTEY               31251\n",
       "WITHOUTLIGHTED HEADLAMPS                31095\n",
       "NOSTOP LIGHTS                           24888\n",
       "IMPROPER LANECHANGE                     24849\n",
       "NEGLIGENT DRIVING                       22630\n",
       "UNAUTHORIZED WINDOW TINTING             12132\n",
       "HEADLIGHTS                              11162\n",
       "HWY. W/O REQUIRED MINIMUM EQUIPMENT     10230\n",
       "FAILURE TO DRIVE RIGHT                   9589\n",
       "FAILURE TO ADJ EMERGENCY VEH             8997\n",
       "UNINSURED VEHICLE                        7656\n",
       "TURNING LEFT FAIL                        7521\n",
       "Name: Description, dtype: int64"
      ]
     },
     "execution_count": 40,
     "metadata": {},
     "output_type": "execute_result"
    }
   ],
   "source": [
    "#since the Description shows two missing counts Headlight AIM its dropped to have uniformity\n",
    "output_data_CSV.Description.value_counts()\n",
    "\n",
    "\n"
   ]
  },
  {
   "cell_type": "code",
   "execution_count": 41,
   "metadata": {},
   "outputs": [],
   "source": [
    "#dropping HEADLIGHT AIM\n",
    "Traffic_final_data=output_data_CSV[output_data_CSV.Description.str.contains(\"HEADLIGHT AIM|Headlight Aim\") == False]"
   ]
  },
  {
   "cell_type": "code",
   "execution_count": 42,
   "metadata": {},
   "outputs": [],
   "source": [
    "#saving to CSV file\n",
    "Traffic_final_data.to_csv(\"Traffic_violations_final.csv\", encoding=\"utf-8\", index=False)"
   ]
  },
  {
   "cell_type": "code",
   "execution_count": 138,
   "metadata": {},
   "outputs": [
    {
     "data": {
      "text/html": [
       "<div>\n",
       "<style scoped>\n",
       "    .dataframe tbody tr th:only-of-type {\n",
       "        vertical-align: middle;\n",
       "    }\n",
       "\n",
       "    .dataframe tbody tr th {\n",
       "        vertical-align: top;\n",
       "    }\n",
       "\n",
       "    .dataframe thead th {\n",
       "        text-align: right;\n",
       "    }\n",
       "</style>\n",
       "<table border=\"1\" class=\"dataframe\">\n",
       "  <thead>\n",
       "    <tr style=\"text-align: right;\">\n",
       "      <th></th>\n",
       "      <th>Description</th>\n",
       "      <th>number of charges</th>\n",
       "    </tr>\n",
       "  </thead>\n",
       "  <tbody>\n",
       "    <tr>\n",
       "      <th>0</th>\n",
       "      <td>DRIVING WITH SUSP.LICEN</td>\n",
       "      <td>207480</td>\n",
       "    </tr>\n",
       "    <tr>\n",
       "      <th>1</th>\n",
       "      <td>SPEEDING</td>\n",
       "      <td>203409</td>\n",
       "    </tr>\n",
       "    <tr>\n",
       "      <th>2</th>\n",
       "      <td>TRAFFIC CONTROLDEVICE</td>\n",
       "      <td>102115</td>\n",
       "    </tr>\n",
       "    <tr>\n",
       "      <th>3</th>\n",
       "      <td>ELECTRONIC DEVICE DISTRACTION</td>\n",
       "      <td>99761</td>\n",
       "    </tr>\n",
       "    <tr>\n",
       "      <th>4</th>\n",
       "      <td>DISPLAY REGISTRATION PLATE</td>\n",
       "      <td>77552</td>\n",
       "    </tr>\n",
       "    <tr>\n",
       "      <th>5</th>\n",
       "      <td>FAILURE TODISPLAY REGISTRATION CARD</td>\n",
       "      <td>62038</td>\n",
       "    </tr>\n",
       "    <tr>\n",
       "      <th>6</th>\n",
       "      <td>STOPAT REDSIGNAL</td>\n",
       "      <td>56548</td>\n",
       "    </tr>\n",
       "    <tr>\n",
       "      <th>7</th>\n",
       "      <td>STOP AT STOP</td>\n",
       "      <td>42125</td>\n",
       "    </tr>\n",
       "    <tr>\n",
       "      <th>8</th>\n",
       "      <td>INFLUENCE OF ALCOHOL</td>\n",
       "      <td>38021</td>\n",
       "    </tr>\n",
       "    <tr>\n",
       "      <th>9</th>\n",
       "      <td>NO SEAT BELT/CHILD SAFTEY</td>\n",
       "      <td>31251</td>\n",
       "    </tr>\n",
       "    <tr>\n",
       "      <th>10</th>\n",
       "      <td>WITHOUTLIGHTED HEADLAMPS</td>\n",
       "      <td>31095</td>\n",
       "    </tr>\n",
       "    <tr>\n",
       "      <th>11</th>\n",
       "      <td>NOSTOP LIGHTS</td>\n",
       "      <td>24888</td>\n",
       "    </tr>\n",
       "    <tr>\n",
       "      <th>12</th>\n",
       "      <td>IMPROPER LANECHANGE</td>\n",
       "      <td>24849</td>\n",
       "    </tr>\n",
       "    <tr>\n",
       "      <th>13</th>\n",
       "      <td>NEGLIGENT DRIVING</td>\n",
       "      <td>22630</td>\n",
       "    </tr>\n",
       "    <tr>\n",
       "      <th>14</th>\n",
       "      <td>UNAUTHORIZED WINDOW TINTING</td>\n",
       "      <td>12132</td>\n",
       "    </tr>\n",
       "    <tr>\n",
       "      <th>15</th>\n",
       "      <td>HEADLIGHTS</td>\n",
       "      <td>11162</td>\n",
       "    </tr>\n",
       "    <tr>\n",
       "      <th>16</th>\n",
       "      <td>HWY. W/O REQUIRED MINIMUM EQUIPMENT</td>\n",
       "      <td>10230</td>\n",
       "    </tr>\n",
       "    <tr>\n",
       "      <th>17</th>\n",
       "      <td>FAILURE TO DRIVE RIGHT</td>\n",
       "      <td>9589</td>\n",
       "    </tr>\n",
       "    <tr>\n",
       "      <th>18</th>\n",
       "      <td>FAILURE TO ADJ EMERGENCY VEH</td>\n",
       "      <td>8997</td>\n",
       "    </tr>\n",
       "    <tr>\n",
       "      <th>19</th>\n",
       "      <td>UNINSURED VEHICLE</td>\n",
       "      <td>7656</td>\n",
       "    </tr>\n",
       "    <tr>\n",
       "      <th>20</th>\n",
       "      <td>TURNING LEFT FAIL</td>\n",
       "      <td>7521</td>\n",
       "    </tr>\n",
       "  </tbody>\n",
       "</table>\n",
       "</div>"
      ],
      "text/plain": [
       "                            Description  number of charges\n",
       "0               DRIVING WITH SUSP.LICEN             207480\n",
       "1                              SPEEDING             203409\n",
       "2                 TRAFFIC CONTROLDEVICE             102115\n",
       "3         ELECTRONIC DEVICE DISTRACTION              99761\n",
       "4            DISPLAY REGISTRATION PLATE              77552\n",
       "5   FAILURE TODISPLAY REGISTRATION CARD              62038\n",
       "6                      STOPAT REDSIGNAL              56548\n",
       "7                          STOP AT STOP              42125\n",
       "8                  INFLUENCE OF ALCOHOL              38021\n",
       "9             NO SEAT BELT/CHILD SAFTEY              31251\n",
       "10             WITHOUTLIGHTED HEADLAMPS              31095\n",
       "11                        NOSTOP LIGHTS              24888\n",
       "12                  IMPROPER LANECHANGE              24849\n",
       "13                    NEGLIGENT DRIVING              22630\n",
       "14          UNAUTHORIZED WINDOW TINTING              12132\n",
       "15                           HEADLIGHTS              11162\n",
       "16  HWY. W/O REQUIRED MINIMUM EQUIPMENT              10230\n",
       "17               FAILURE TO DRIVE RIGHT               9589\n",
       "18         FAILURE TO ADJ EMERGENCY VEH               8997\n",
       "19                    UNINSURED VEHICLE               7656\n",
       "20                    TURNING LEFT FAIL               7521"
      ]
     },
     "execution_count": 138,
     "metadata": {},
     "output_type": "execute_result"
    }
   ],
   "source": [
    "#Checking the data to see the Description  and Charges match\n",
    "Traffic=Traffic_final_data.Description.value_counts().reset_index()\n",
    "Traffic= Traffic.rename(columns={'index': 'Description', 'Description': 'number of charges'})\n",
    "Traffic"
   ]
  },
  {
   "cell_type": "code",
   "execution_count": 64,
   "metadata": {},
   "outputs": [],
   "source": [
    "#Traffic_final_data.Charge.value_counts().reset_index()"
   ]
  },
  {
   "cell_type": "code",
   "execution_count": 115,
   "metadata": {},
   "outputs": [
    {
     "data": {
      "text/html": [
       "<div>\n",
       "<style scoped>\n",
       "    .dataframe tbody tr th:only-of-type {\n",
       "        vertical-align: middle;\n",
       "    }\n",
       "\n",
       "    .dataframe tbody tr th {\n",
       "        vertical-align: top;\n",
       "    }\n",
       "\n",
       "    .dataframe thead th {\n",
       "        text-align: right;\n",
       "    }\n",
       "</style>\n",
       "<table border=\"1\" class=\"dataframe\">\n",
       "  <thead>\n",
       "    <tr style=\"text-align: right;\">\n",
       "      <th></th>\n",
       "      <th>Date Of Stop</th>\n",
       "      <th>Time Of Stop</th>\n",
       "      <th>Description</th>\n",
       "      <th>State</th>\n",
       "      <th>Charge</th>\n",
       "      <th>Contributed To Accident</th>\n",
       "      <th>Race</th>\n",
       "      <th>Gender</th>\n",
       "      <th>Geolocation</th>\n",
       "      <th>Year</th>\n",
       "      <th>Month</th>\n",
       "    </tr>\n",
       "  </thead>\n",
       "  <tbody>\n",
       "    <tr>\n",
       "      <th>1</th>\n",
       "      <td>2017-08-29</td>\n",
       "      <td>10:19:00</td>\n",
       "      <td>TRAFFIC CONTROLDEVICE</td>\n",
       "      <td>VA</td>\n",
       "      <td>21-201(a1)</td>\n",
       "      <td>No</td>\n",
       "      <td>WHITE</td>\n",
       "      <td>F</td>\n",
       "      <td>(38.981725, -77.0927566666667)</td>\n",
       "      <td>2017</td>\n",
       "      <td>8</td>\n",
       "    </tr>\n",
       "    <tr>\n",
       "      <th>6</th>\n",
       "      <td>2013-10-08</td>\n",
       "      <td>13:23:00</td>\n",
       "      <td>DRIVING WITH SUSP.LICEN</td>\n",
       "      <td>MD</td>\n",
       "      <td>16-303</td>\n",
       "      <td>No</td>\n",
       "      <td>HISPANIC</td>\n",
       "      <td>M</td>\n",
       "      <td>(39.0933833333333, -77.0795516666667)</td>\n",
       "      <td>2013</td>\n",
       "      <td>10</td>\n",
       "    </tr>\n",
       "    <tr>\n",
       "      <th>11</th>\n",
       "      <td>2012-03-19</td>\n",
       "      <td>16:10:00</td>\n",
       "      <td>ELECTRONIC DEVICE DISTRACTION</td>\n",
       "      <td>VA</td>\n",
       "      <td>21-1124</td>\n",
       "      <td>No</td>\n",
       "      <td>HISPANIC</td>\n",
       "      <td>M</td>\n",
       "      <td>(38.9827307333333, -77.1007551666667)</td>\n",
       "      <td>2012</td>\n",
       "      <td>3</td>\n",
       "    </tr>\n",
       "    <tr>\n",
       "      <th>12</th>\n",
       "      <td>2012-06-09</td>\n",
       "      <td>21:19:00</td>\n",
       "      <td>NO SEAT BELT/CHILD SAFTEY</td>\n",
       "      <td>MD</td>\n",
       "      <td>22-412</td>\n",
       "      <td>No</td>\n",
       "      <td>WHITE</td>\n",
       "      <td>F</td>\n",
       "      <td>(39.06914295, -76.9696780666667)</td>\n",
       "      <td>2012</td>\n",
       "      <td>6</td>\n",
       "    </tr>\n",
       "    <tr>\n",
       "      <th>13</th>\n",
       "      <td>2012-12-20</td>\n",
       "      <td>00:41:00</td>\n",
       "      <td>INFLUENCE OF ALCOHOL</td>\n",
       "      <td>MD</td>\n",
       "      <td>21-902</td>\n",
       "      <td>No</td>\n",
       "      <td>WHITE</td>\n",
       "      <td>M</td>\n",
       "      <td>(38.9835782, -77.09310515)</td>\n",
       "      <td>2012</td>\n",
       "      <td>12</td>\n",
       "    </tr>\n",
       "  </tbody>\n",
       "</table>\n",
       "</div>"
      ],
      "text/plain": [
       "   Date Of Stop Time Of Stop                    Description State      Charge  \\\n",
       "1    2017-08-29     10:19:00          TRAFFIC CONTROLDEVICE    VA  21-201(a1)   \n",
       "6    2013-10-08     13:23:00        DRIVING WITH SUSP.LICEN    MD      16-303   \n",
       "11   2012-03-19     16:10:00  ELECTRONIC DEVICE DISTRACTION    VA     21-1124   \n",
       "12   2012-06-09     21:19:00      NO SEAT BELT/CHILD SAFTEY    MD      22-412   \n",
       "13   2012-12-20     00:41:00           INFLUENCE OF ALCOHOL    MD      21-902   \n",
       "\n",
       "   Contributed To Accident      Race Gender  \\\n",
       "1                       No     WHITE      F   \n",
       "6                       No  HISPANIC      M   \n",
       "11                      No  HISPANIC      M   \n",
       "12                      No     WHITE      F   \n",
       "13                      No     WHITE      M   \n",
       "\n",
       "                              Geolocation  Year  Month  \n",
       "1          (38.981725, -77.0927566666667)  2017      8  \n",
       "6   (39.0933833333333, -77.0795516666667)  2013     10  \n",
       "11  (38.9827307333333, -77.1007551666667)  2012      3  \n",
       "12       (39.06914295, -76.9696780666667)  2012      6  \n",
       "13             (38.9835782, -77.09310515)  2012     12  "
      ]
     },
     "execution_count": 115,
     "metadata": {},
     "output_type": "execute_result"
    }
   ],
   "source": [
    "Traffic_final_data.head()"
   ]
  },
  {
   "cell_type": "code",
   "execution_count": 139,
   "metadata": {},
   "outputs": [
    {
     "data": {
      "text/plain": [
       "Text(0.5,1,'charges amount')"
      ]
     },
     "execution_count": 139,
     "metadata": {},
     "output_type": "execute_result"
    },
    {
     "data": {
      "image/png": "[encoded data removed]",
      "text/plain": [
       "<Figure size 864x864 with 1 Axes>"
      ]
     },
     "metadata": {},
     "output_type": "display_data"
    }
   ],
   "source": [
    "# Build Pie Chart for all driving tickets\n",
    "plt.rcParams['font.size'] = 8.0\n",
    "fig = plt.figure(figsize=[12, 12])\n",
    "plt.pie(Traffic[\"number of charges\"],labels=Traffic[\"Description\"], shadow = False ,   startangle=150, autopct = \"%1.1f%%\" )\n",
    "plt.title('charges amount')\n"
   ]
  },
  {
   "cell_type": "code",
   "execution_count": 141,
   "metadata": {},
   "outputs": [
    {
     "data": {
      "text/plain": [
       "Text(0,0.5,'number of charges')"
      ]
     },
     "execution_count": 141,
     "metadata": {},
     "output_type": "execute_result"
    },
    {
     "data": {
      "image/png": "[encoded data removed]",
      "text/plain": [
       "<Figure size 720x360 with 1 Axes>"
      ]
     },
     "metadata": {},
     "output_type": "display_data"
    }
   ],
   "source": [
    "# Build bar Chart to compare the charts and select the best one\n",
    "x_axis = np.arange(len(Traffic.index))\n",
    "plt.figure(figsize=(10, 5))\n",
    "plt.bar(x_axis, Traffic[\"number of charges\"], color='r', alpha=0.5, align=\"center\" , width=.8 )\n",
    "tick_locations = [value for value in x_axis]\n",
    "tick_title = Traffic[\"Description\"]\n",
    "plt.xticks(tick_locations, tick_title , rotation=90)\n",
    "plt.title(\"charges amount\")\n",
    "plt.xlabel(\"charge descriotion\")\n",
    "plt.ylabel(\"number of charges\")"
   ]
  },
  {
   "cell_type": "code",
   "execution_count": 142,
   "metadata": {},
   "outputs": [
    {
     "data": {
      "text/html": [
       "<div>\n",
       "<style scoped>\n",
       "    .dataframe tbody tr th:only-of-type {\n",
       "        vertical-align: middle;\n",
       "    }\n",
       "\n",
       "    .dataframe tbody tr th {\n",
       "        vertical-align: top;\n",
       "    }\n",
       "\n",
       "    .dataframe thead th {\n",
       "        text-align: right;\n",
       "    }\n",
       "</style>\n",
       "<table border=\"1\" class=\"dataframe\">\n",
       "  <thead>\n",
       "    <tr style=\"text-align: right;\">\n",
       "      <th></th>\n",
       "      <th>gender</th>\n",
       "      <th>number of charges</th>\n",
       "    </tr>\n",
       "  </thead>\n",
       "  <tbody>\n",
       "    <tr>\n",
       "      <th>0</th>\n",
       "      <td>M</td>\n",
       "      <td>127649</td>\n",
       "    </tr>\n",
       "    <tr>\n",
       "      <th>1</th>\n",
       "      <td>F</td>\n",
       "      <td>75734</td>\n",
       "    </tr>\n",
       "    <tr>\n",
       "      <th>2</th>\n",
       "      <td>U</td>\n",
       "      <td>26</td>\n",
       "    </tr>\n",
       "  </tbody>\n",
       "</table>\n",
       "</div>"
      ],
      "text/plain": [
       "  gender  number of charges\n",
       "0      M             127649\n",
       "1      F              75734\n",
       "2      U                 26"
      ]
     },
     "execution_count": 142,
     "metadata": {},
     "output_type": "execute_result"
    }
   ],
   "source": [
    "#seprating speed charges by gender\n",
    "speed_amount=Traffic_final_data.loc[Traffic_final_data.Description == \"SPEEDING\"].Gender.value_counts()\n",
    "speed=speed_amount.reset_index()\n",
    "speed= speed.rename(columns={'index': 'gender', 'Gender': 'number of charges'})\n",
    "speed"
   ]
  },
  {
   "cell_type": "code",
   "execution_count": 145,
   "metadata": {},
   "outputs": [
    {
     "data": {
      "text/plain": [
       "Text(0,0.5,'Number Of Charges')"
      ]
     },
     "execution_count": 145,
     "metadata": {},
     "output_type": "execute_result"
    },
    {
     "data": {
      "image/png": "[encoded data removed]",
      "text/plain": [
       "<Figure size 360x360 with 1 Axes>"
      ]
     },
     "metadata": {},
     "output_type": "display_data"
    }
   ],
   "source": [
    "# Build bar Chart for speed charges by gender\n",
    "x_axis = np.arange(len(speed_amount))\n",
    "plt.figure(figsize=(5, 5))\n",
    "plt.bar(x_axis, speed[\"number of charges\"], color='r', alpha=0.5, align=\"center\" , width=.8 )\n",
    "tick_locations = [value for value in x_axis]\n",
    "tick_title = [\"male\" , \"female\" , \"unknown\"]\n",
    "plt.xticks(tick_locations, tick_title , rotation=90)\n",
    "plt.title(\"Speed Charges By Gender\")\n",
    "plt.xlabel(\"Gender\")\n",
    "plt.ylabel(\"Number Of Charges\")"
   ]
  },
  {
   "cell_type": "code",
   "execution_count": 149,
   "metadata": {},
   "outputs": [
    {
     "data": {
      "text/html": [
       "<div>\n",
       "<style scoped>\n",
       "    .dataframe tbody tr th:only-of-type {\n",
       "        vertical-align: middle;\n",
       "    }\n",
       "\n",
       "    .dataframe tbody tr th {\n",
       "        vertical-align: top;\n",
       "    }\n",
       "\n",
       "    .dataframe thead th {\n",
       "        text-align: right;\n",
       "    }\n",
       "</style>\n",
       "<table border=\"1\" class=\"dataframe\">\n",
       "  <thead>\n",
       "    <tr style=\"text-align: right;\">\n",
       "      <th></th>\n",
       "      <th>Race</th>\n",
       "      <th>Number Of Speed Charges</th>\n",
       "    </tr>\n",
       "  </thead>\n",
       "  <tbody>\n",
       "    <tr>\n",
       "      <th>0</th>\n",
       "      <td>WHITE</td>\n",
       "      <td>95441</td>\n",
       "    </tr>\n",
       "    <tr>\n",
       "      <th>1</th>\n",
       "      <td>BLACK</td>\n",
       "      <td>50239</td>\n",
       "    </tr>\n",
       "    <tr>\n",
       "      <th>2</th>\n",
       "      <td>HISPANIC</td>\n",
       "      <td>30543</td>\n",
       "    </tr>\n",
       "    <tr>\n",
       "      <th>3</th>\n",
       "      <td>ASIAN</td>\n",
       "      <td>14482</td>\n",
       "    </tr>\n",
       "    <tr>\n",
       "      <th>4</th>\n",
       "      <td>OTHER</td>\n",
       "      <td>12314</td>\n",
       "    </tr>\n",
       "    <tr>\n",
       "      <th>5</th>\n",
       "      <td>NATIVE AMERICAN</td>\n",
       "      <td>390</td>\n",
       "    </tr>\n",
       "  </tbody>\n",
       "</table>\n",
       "</div>"
      ],
      "text/plain": [
       "              Race  Number Of Speed Charges\n",
       "0            WHITE                    95441\n",
       "1            BLACK                    50239\n",
       "2         HISPANIC                    30543\n",
       "3            ASIAN                    14482\n",
       "4            OTHER                    12314\n",
       "5  NATIVE AMERICAN                      390"
      ]
     },
     "execution_count": 149,
     "metadata": {},
     "output_type": "execute_result"
    }
   ],
   "source": [
    "#seprating speed charges by races\n",
    "race_speed=Traffic_final_data.loc[Traffic_final_data.Description  == \"SPEEDING\"].Race.value_counts()\n",
    "\n",
    "racespeed=race_speed.reset_index()\n",
    "racespeed = racespeed.rename(columns={'index': 'Race', 'Race': 'Number Of Speed Charges'})\n",
    "racespeed"
   ]
  },
  {
   "cell_type": "code",
   "execution_count": 148,
   "metadata": {},
   "outputs": [
    {
     "data": {
      "text/plain": [
       "Text(0,0.5,'Number Of Speed Charges')"
      ]
     },
     "execution_count": 148,
     "metadata": {},
     "output_type": "execute_result"
    },
    {
     "data": {
      "image/png": "[encoded data removed]",
      "text/plain": [
       "<Figure size 360x360 with 1 Axes>"
      ]
     },
     "metadata": {},
     "output_type": "display_data"
    }
   ],
   "source": [
    "# Build bar Chart for speed charges by Race\n",
    "x_axis = np.arange(len(racespeed))\n",
    "plt.figure(figsize=(5, 5))\n",
    "plt.bar(x_axis, racespeed[\"number of charges\"], color='r', alpha=0.5, align=\"center\" , width=.8 )\n",
    "tick_locations = [value for value in x_axis]\n",
    "tick_title = racespeed[\"Race\"]\n",
    "plt.xticks(tick_locations, tick_title , rotation=90)\n",
    "plt.title(\"Speed Charges By Race\")\n",
    "plt.xlabel(\"Race\")\n",
    "plt.ylabel(\"Number Of Speed Charges\")"
   ]
  },
  {
   "cell_type": "code",
   "execution_count": null,
   "metadata": {},
   "outputs": [],
   "source": []
  }
 ],
 "metadata": {
  "kernelspec": {
   "display_name": "Python [default]",
   "language": "python",
   "name": "python3"
  },
  "language_info": {
   "codemirror_mode": {
    "name": "ipython",
    "version": 3
   },
   "file_extension": ".py",
   "mimetype": "text/x-python",
   "name": "python",
   "nbconvert_exporter": "python",
   "pygments_lexer": "ipython3",
   "version": "3.6.5"
  }
 },
 "nbformat": 4,
 "nbformat_minor": 2
}
